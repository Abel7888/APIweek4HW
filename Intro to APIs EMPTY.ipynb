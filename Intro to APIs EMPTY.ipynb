{
 "cells": [
  {
   "cell_type": "markdown",
   "id": "7196054f",
   "metadata": {},
   "source": [
    "# Working with APIs"
   ]
  },
  {
   "cell_type": "markdown",
   "id": "0547b71e",
   "metadata": {},
   "source": [
    "API stands for Application programming interface<br>\n",
    "APIs are a way for applications to talk to eachother<br>\n",
    "In python we use the requests package to handle the connection<br>\n",
    "<small><strong>Note: It is requests with an s not request(this is a different package)</strong></small><br>\n",
    "Most API's communicate with data in the form of JSON<br>\n",
    "JSON stands for JavaScript Object Notation"
   ]
  },
  {
   "cell_type": "code",
   "execution_count": 2,
   "id": "4db9d154",
   "metadata": {},
   "outputs": [],
   "source": [
    "#import the packages we need:\n",
    "import requests"
   ]
  },
  {
   "cell_type": "markdown",
   "id": "e8c2ce51",
   "metadata": {},
   "source": [
    "We will be connecting to the Ergast F1 Racer API today:\n",
    "http://ergast.com/mrd/\n",
    "\n",
    "to view JSON data nicely in the Chrome browser install the extension JSONview"
   ]
  },
  {
   "cell_type": "code",
   "execution_count": 4,
   "id": "52c440c6",
   "metadata": {},
   "outputs": [],
   "source": [
    "#the api url we are getting\n",
    "url = 'https://ergast.com/api/f1/2008/5/driverStandings.json'"
   ]
  },
  {
   "cell_type": "code",
   "execution_count": 5,
   "id": "f60c1b4a",
   "metadata": {},
   "outputs": [
    {
     "data": {
      "text/plain": [
       "<Response [200]>"
      ]
     },
     "execution_count": 5,
     "metadata": {},
     "output_type": "execute_result"
    }
   ],
   "source": [
    "#open api\n",
    "requests.get(url)"
   ]
  },
  {
   "cell_type": "code",
   "execution_count": 6,
   "id": "7b63a204",
   "metadata": {},
   "outputs": [],
   "source": [
    "#response object\n",
    "response = requests.get(url)"
   ]
  },
  {
   "cell_type": "code",
   "execution_count": 8,
   "id": "c6d1fdaf",
   "metadata": {},
   "outputs": [
    {
     "data": {
      "text/plain": [
       "200"
      ]
     },
     "execution_count": 8,
     "metadata": {},
     "output_type": "execute_result"
    }
   ],
   "source": [
    "#check and make sure we got a successful response from the API\n",
    "response.ok\n",
    "response.status_code"
   ]
  },
  {
   "cell_type": "code",
   "execution_count": 10,
   "id": "ed4d3256",
   "metadata": {},
   "outputs": [],
   "source": [
    "#view the response as a JSON\n",
    "#response.json()\n"
   ]
  },
  {
   "cell_type": "code",
   "execution_count": 11,
   "id": "92e6cd2c",
   "metadata": {},
   "outputs": [
    {
     "data": {
      "text/plain": [
       "dict"
      ]
     },
     "execution_count": 11,
     "metadata": {},
     "output_type": "execute_result"
    }
   ],
   "source": [
    "type(response.json())"
   ]
  },
  {
   "cell_type": "code",
   "execution_count": null,
   "id": "f074dfcf",
   "metadata": {},
   "outputs": [],
   "source": [
    "# We only want the Driver Standings\n",
    "driver_standing = response.json()['MRData']['StandingsTable']['StandingsLists'][0]['DriverStandings']\n",
    "##print(driver_standing)"
   ]
  },
  {
   "cell_type": "code",
   "execution_count": 30,
   "id": "be46a950",
   "metadata": {},
   "outputs": [
    {
     "name": "stdout",
     "output_type": "stream",
     "text": [
      "Kimi Räikkönen\n",
      "Felipe Massa\n",
      "Lewis Hamilton\n",
      "Robert Kubica\n",
      "Nick Heidfeld\n",
      "Heikki Kovalainen\n",
      "Mark Webber\n",
      "Fernando Alonso\n",
      "Jarno Trulli\n",
      "Nico Rosberg\n",
      "Kazuki Nakajima\n",
      "Jenson Button\n",
      "Sébastien Bourdais\n",
      "David Coulthard\n",
      "Timo Glock\n",
      "Giancarlo Fisichella\n",
      "Rubens Barrichello\n",
      "Nelson Piquet Jr.\n",
      "Takuma Sato\n",
      "Anthony Davidson\n",
      "Adrian Sutil\n",
      "Sebastian Vettel\n"
     ]
    }
   ],
   "source": [
    "for i in driver_standing:\n",
    "    print(i['Driver']['givenName'], i['Driver']['familyName'])"
   ]
  },
  {
   "cell_type": "code",
   "execution_count": 27,
   "id": "3740c752",
   "metadata": {},
   "outputs": [
    {
     "data": {
      "text/plain": [
       "[{'Kimi Räikkönen': {'date_of_birth': '1979-10-17',\n",
       "   'number_of_wins': '2',\n",
       "   'team': 'Ferrari'}},\n",
       " {'Felipe Massa': {'date_of_birth': '1981-04-25',\n",
       "   'number_of_wins': '2',\n",
       "   'team': 'Ferrari'}},\n",
       " {'Lewis Hamilton': {'date_of_birth': '1985-01-07',\n",
       "   'number_of_wins': '1',\n",
       "   'team': 'McLaren'}},\n",
       " {'Robert Kubica': {'date_of_birth': '1984-12-07',\n",
       "   'number_of_wins': '0',\n",
       "   'team': 'BMW Sauber'}},\n",
       " {'Nick Heidfeld': {'date_of_birth': '1977-05-10',\n",
       "   'number_of_wins': '0',\n",
       "   'team': 'BMW Sauber'}},\n",
       " {'Heikki Kovalainen': {'date_of_birth': '1981-10-19',\n",
       "   'number_of_wins': '0',\n",
       "   'team': 'McLaren'}},\n",
       " {'Mark Webber': {'date_of_birth': '1976-08-27',\n",
       "   'number_of_wins': '0',\n",
       "   'team': 'Red Bull'}},\n",
       " {'Fernando Alonso': {'date_of_birth': '1981-07-29',\n",
       "   'number_of_wins': '0',\n",
       "   'team': 'Renault'}},\n",
       " {'Jarno Trulli': {'date_of_birth': '1974-07-13',\n",
       "   'number_of_wins': '0',\n",
       "   'team': 'Toyota'}},\n",
       " {'Nico Rosberg': {'date_of_birth': '1985-06-27',\n",
       "   'number_of_wins': '0',\n",
       "   'team': 'Williams'}},\n",
       " {'Kazuki Nakajima': {'date_of_birth': '1985-01-11',\n",
       "   'number_of_wins': '0',\n",
       "   'team': 'Williams'}},\n",
       " {'Jenson Button': {'date_of_birth': '1980-01-19',\n",
       "   'number_of_wins': '0',\n",
       "   'team': 'Honda'}},\n",
       " {'Sébastien Bourdais': {'date_of_birth': '1979-02-28',\n",
       "   'number_of_wins': '0',\n",
       "   'team': 'Toro Rosso'}},\n",
       " {'David Coulthard': {'date_of_birth': '1971-03-27',\n",
       "   'number_of_wins': '0',\n",
       "   'team': 'Red Bull'}},\n",
       " {'Timo Glock': {'date_of_birth': '1982-03-18',\n",
       "   'number_of_wins': '0',\n",
       "   'team': 'Toyota'}},\n",
       " {'Giancarlo Fisichella': {'date_of_birth': '1973-01-14',\n",
       "   'number_of_wins': '0',\n",
       "   'team': 'Force India'}},\n",
       " {'Rubens Barrichello': {'date_of_birth': '1972-05-23',\n",
       "   'number_of_wins': '0',\n",
       "   'team': 'Honda'}},\n",
       " {'Nelson Piquet Jr.': {'date_of_birth': '1985-07-25',\n",
       "   'number_of_wins': '0',\n",
       "   'team': 'Renault'}},\n",
       " {'Takuma Sato': {'date_of_birth': '1977-01-28',\n",
       "   'number_of_wins': '0',\n",
       "   'team': 'Super Aguri'}},\n",
       " {'Anthony Davidson': {'date_of_birth': '1979-04-18',\n",
       "   'number_of_wins': '0',\n",
       "   'team': 'Super Aguri'}},\n",
       " {'Adrian Sutil': {'date_of_birth': '1983-01-11',\n",
       "   'number_of_wins': '0',\n",
       "   'team': 'Force India'}},\n",
       " {'Sebastian Vettel': {'date_of_birth': '1987-07-03',\n",
       "   'number_of_wins': '0',\n",
       "   'team': 'Toro Rosso'}}]"
      ]
     },
     "execution_count": 27,
     "metadata": {},
     "output_type": "execute_result"
    }
   ],
   "source": [
    "def newinfo(data):\n",
    "    driverinfo = []\n",
    "    for i in data:\n",
    "        dict ={}\n",
    "        fullname = i['Driver']['givenName'] + \" \" + i['Driver']['familyName']\n",
    "        dict[fullname] = {\n",
    "             'date_of_birth': i['Driver']['dateOfBirth'],\n",
    "            'number_of_wins': i['wins'],\n",
    "            'team': i['Constructors'][0]['name']\n",
    "        }\n",
    "\n",
    "        driverinfo.append(dict)\n",
    "    return driverinfo\n",
    "\n",
    "newinfo(driver_standing)\n",
    "\n"
   ]
  },
  {
   "cell_type": "markdown",
   "id": "6d546014",
   "metadata": {},
   "source": [
    "# <strong>Homework</strong>\n",
    "check out this Pokemon API https://pokeapi.co/\n",
    "Use the requests package to connect to this API and get and store data for 5 different pokemon.\n",
    "Get the pokemons: name, atleast one ability's name, base_experience, and the URL for its sprite (an image that shows up on screen) for the 'front_shiny', attack base_state, hp base_stat, defense base_stat"
   ]
  },
  {
   "cell_type": "code",
   "execution_count": null,
   "id": "5a9081e3",
   "metadata": {},
   "outputs": [],
   "source": []
  }
 ],
 "metadata": {
  "kernelspec": {
   "display_name": "Python 3.10.8 64-bit",
   "language": "python",
   "name": "python3"
  },
  "language_info": {
   "codemirror_mode": {
    "name": "ipython",
    "version": 3
   },
   "file_extension": ".py",
   "mimetype": "text/x-python",
   "name": "python",
   "nbconvert_exporter": "python",
   "pygments_lexer": "ipython3",
   "version": "3.10.8"
  },
  "vscode": {
   "interpreter": {
    "hash": "c3dcfcd2b4f8e8f0c611c08e622c86a20cb483c2c1ccf36e9cf27065b69ccba9"
   }
  }
 },
 "nbformat": 4,
 "nbformat_minor": 5
}
