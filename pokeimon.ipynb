{
 "cells": [
  {
   "cell_type": "code",
   "execution_count": null,
   "metadata": {},
   "outputs": [],
   "source": [
    "# <strong>Homework</strong>\n",
    "#check out this Pokemon API https://pokeapi.co/\n",
    "#Use the requests package to connect to this API \n",
    "#and get and store data for 5 different pokemon.\n",
    "#Get the pokemons: name, atleast one ability's name, \n",
    "# base_experience, and the URL for its sprite \n",
    "#(an image that shows up on screen) for the 'front_shiny', \n",
    "# attack base_stat, hp base_stat, defense base_stat"
   ]
  },
  {
   "cell_type": "code",
   "execution_count": 15,
   "metadata": {},
   "outputs": [
    {
     "name": "stdout",
     "output_type": "stream",
     "text": [
      "limber\n",
      "ditto\n",
      "48\n",
      "https://raw.githubusercontent.com/PokeAPI/sprites/master/sprites/pokemon/132.png\n"
     ]
    },
    {
     "data": {
      "text/plain": [
       "200"
      ]
     },
     "execution_count": 15,
     "metadata": {},
     "output_type": "execute_result"
    }
   ],
   "source": [
    "import requests\n",
    "\n",
    "# the api we are accessing\n",
    "\n",
    "url2 = 'https://pokeapi.co/api/v2/pokemon/ditto'\n",
    "reponse1 = requests.get(url2)\n",
    "reponse1.status_code\n",
    "type(reponse1.json())\n",
    "\n",
    "ability = reponse1.json()[\"abilities\"][0][\"ability\"]['name']\n",
    "name1 = reponse1.json()[\"species\"]['name']\n",
    "baseex = reponse1.json()['base_experience']\n",
    "image = reponse1.json()['sprites']['front_default']\n",
    "stat = reponse1.json()[\"stats\"][0]['base_stat']\n",
    "stat1 = reponse1.json()[\"stats\"][1]['base_stat']\n",
    "stat2 = reponse1.json()[\"stats\"][2]['base_stat']\n",
    "\n",
    "\n",
    "\n",
    "print(ability)\n",
    "print(name1)\n",
    "print(stat)\n",
    "print(image)\n",
    "\n",
    "\n",
    "url3 = 'https://pokeapi.co/api/v2/pokemon/charizard'\n",
    "response2 = requests.get(url3)\n",
    "response2.status_code\n",
    "\n",
    "charability1 = response2.json()[\"abilities\"][0][\"ability\"]['name']\n",
    "namedata = response2.json()[\"forms\"][0]['name']\n",
    "base_ex = response2.json()[\"base_experience\"]\n",
    "charimageimage = response2.json()[\"sprites\"][\"front_default\"]\n",
    "statchar = response2.json()[\"stats\"][0]['base_stat']\n",
    "statchar1 = response2.json()[\"stats\"][1]['base_stat']\n",
    "statchar2 = response2.json()[\"stats\"][2]['base_stat']\n",
    "\n",
    "#richu stats\n",
    "\n",
    "url4 = 'https://pokeapi.co/api/v2/pokemon/raichu'\n",
    "response3 = requests.get(url4)\n",
    "response3.status_code\n",
    "\n",
    "richabilties = response3.json()[\"abilities\"][0][\"ability\"]['name']\n",
    "namerichu1 = response3.json()[\"forms\"][0]['name']\n",
    "base_ex1 = response3.json()[\"base_experience\"]\n",
    "richueimage = response3.json()[\"sprites\"][\"front_default\"]\n",
    "stat1raich = response3.json()[\"stats\"][0]['base_stat']\n",
    "stat2raich = response3.json()[\"stats\"][1]['base_stat']\n",
    "stat3raich = response3.json()[\"stats\"][2]['base_stat']\n",
    "\n",
    "#mewtwo data\n",
    "\n",
    "url5 = 'https://pokeapi.co/api/v2/pokemon/mewtwo'\n",
    "response4 = requests.get(url5)\n",
    "response4.status_code\n",
    "\n",
    "mewtwoabilty = response4.json()[\"abilities\"][0][\"ability\"]['name']\n",
    "namemeo = response4.json()[\"forms\"][0]['name']\n",
    "base_ex2 = response4.json()[\"base_experience\"]\n",
    "meoimage =  response4.json()[\"sprites\"][\"front_default\"]\n",
    "stat1meo = response4.json()[\"stats\"][0]['base_stat']\n",
    "stat2meo = response4.json()[\"stats\"][1]['base_stat']\n",
    "stat3meo = response4.json()[\"stats\"][2]['base_stat']\n",
    "\n",
    "#gyarados data\n",
    "\n",
    "url6 = 'https://pokeapi.co/api/v2/pokemon/gyarados'\n",
    "response5 = requests.get(url6)\n",
    "response5.status_code\n",
    "gyarability = response5.json()[\"abilities\"][0][\"ability\"]['name']\n",
    "gyname = response4.json()[\"forms\"][0]['name']\n",
    "base_ex3 = response4.json()[\"base_experience\"]\n",
    "gyarimage =  response4.json()[\"sprites\"][\"front_default\"]\n",
    "stat1gyar = response4.json()[\"stats\"][0]['base_stat']\n",
    "stat2gyar = response4.json()[\"stats\"][1]['base_stat']\n",
    "stat3gyar = response4.json()[\"stats\"][2]['base_stat']\n",
    "\n",
    "\n",
    "\n",
    "\n",
    "\n",
    "\n",
    "\n",
    "\n",
    "\n",
    "\n",
    "\n",
    "\n",
    "\n",
    "\n",
    "\n",
    "\n",
    "\n",
    "\n",
    "\n",
    "\n",
    "\n",
    "\n",
    "\n",
    "\n"
   ]
  }
 ],
 "metadata": {
  "kernelspec": {
   "display_name": "Python 3.10.8 64-bit",
   "language": "python",
   "name": "python3"
  },
  "language_info": {
   "codemirror_mode": {
    "name": "ipython",
    "version": 3
   },
   "file_extension": ".py",
   "mimetype": "text/x-python",
   "name": "python",
   "nbconvert_exporter": "python",
   "pygments_lexer": "ipython3",
   "version": "3.10.8"
  },
  "orig_nbformat": 4,
  "vscode": {
   "interpreter": {
    "hash": "c3dcfcd2b4f8e8f0c611c08e622c86a20cb483c2c1ccf36e9cf27065b69ccba9"
   }
  }
 },
 "nbformat": 4,
 "nbformat_minor": 2
}
